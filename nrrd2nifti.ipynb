{
  "nbformat": 4,
  "nbformat_minor": 0,
  "metadata": {
    "colab": {
      "provenance": [],
      "authorship_tag": "ABX9TyMycJBlbd2RIrPLc89ifUiH",
      "include_colab_link": true
    },
    "kernelspec": {
      "name": "python3",
      "display_name": "Python 3"
    },
    "language_info": {
      "name": "python"
    }
  },
  "cells": [
    {
      "cell_type": "markdown",
      "metadata": {
        "id": "view-in-github",
        "colab_type": "text"
      },
      "source": [
        "<a href=\"https://colab.research.google.com/github/aubricot/nrrd2nifti/blob/main/nrrd2nifti.ipynb\" target=\"_parent\"><img src=\"https://colab.research.google.com/assets/colab-badge.svg\" alt=\"Open In Colab\"/></a>"
      ]
    },
    {
      "cell_type": "markdown",
      "source": [
        "# Convert .nrrd and .seg.nrrd files from 3D Slicer to .nii.gz (nifti) files for machine learning\n",
        "---   \n",
        "*Last Updated 8 March 2025*  \n",
        "-Runs in Python 3-   \n",
        "Convert 3D slicer volume and segmentation files into nifti format for machine learning"
      ],
      "metadata": {
        "id": "ExUadQan_7DO"
      }
    },
    {
      "cell_type": "code",
      "execution_count": null,
      "metadata": {
        "id": "7g2TphAD91aS"
      },
      "outputs": [],
      "source": [
        "#@title Choose where to save results\n",
        "import os\n",
        "\n",
        "# Use dropdown menu on right\n",
        "save = \"in my Google Drive\" #@param [\"in my Google Drive\", \"in Colab runtime (files deleted after each session)\"]\n",
        "\n",
        "# Mount google drive to export image tagging file(s)\n",
        "if 'Google Drive' in save:\n",
        "    from google.colab import drive\n",
        "    drive.mount('/content/drive', force_remount=True)\n",
        "\n",
        "# Type in the path to your project wd in form field on right\n",
        "wd = \"/content/drive/MyDrive/slicer\" # @param [\"/content/drive/MyDrive/slicer\"] {\"allow-input\":true}\n",
        "print(\"\\nWorking with data from:\")\n",
        "%cd $wd\n",
        "\n",
        "# Set up folder to save .nii.gz files\n",
        "ngz_folder = \"nii_gzs\" # @param {\"type\":\"string\",\"placeholder\":\"nii_gzs\"}\n",
        "ngz_fpath = wd + '/' + ngz_folder\n",
        "# Set up folder to save segmentation files (labels)\n",
        "labels_fpath = ngz_fpath + '/' + 'labels'\n",
        "\n",
        "# Make ngz_folder if it doesn't already exist\n",
        "if not os.path.exists(ngz_fpath):\n",
        "    print(\"Making ngz_folder at: \", ngz_fpath)\n",
        "    os.makedirs(ngz_fpath)\n",
        "    print(\"Making labels_folder at : \", labels_fpath)\n",
        "    os.makedirs(labels_fpath)\n",
        "else:\n",
        "    print(\"\\nngz_folder and labels_folder already exist at: \", ngz_fpath, labels_fpath)"
      ]
    },
    {
      "cell_type": "code",
      "source": [
        "#@title Crawl through wd to find .nrrd and _crop.nrrd files, convert them to .nii.gz, save to ngz_folder\n",
        "!pip install SimpleITK\n",
        "import SimpleITK as sitk\n",
        "\n",
        "# List input and output filenames\n",
        "in_vols = [] # volume files (.nrrd or _crop.nrrd)\n",
        "out_vols = [] # volume files (.nii.gz)\n",
        "in_segs = [] # segmentation files (.seg.nrrd)\n",
        "out_segs = [] # segmentation files (_seg.nii.gz)\n",
        "\n",
        "# Directories to search for volumes and segmentation labels\n",
        "include = ['the', 'THE', 'The'] # Only use folders for theobroma cacao (thecac)\n",
        "dirs = os.listdir('.')\n",
        "dirs = [dir for dir in dirs if any(y in dir for y in include)]\n",
        "\n",
        "# Make a list of directories to check if missing files\n",
        "dirs_to_check = []\n",
        "\n",
        "# Walk through chosen directories\n",
        "for dir in dirs:\n",
        "    files = os.listdir(dir)\n",
        "    files = [f for f in files if dir in f]\n",
        "    print(\"\\n \\033[92m Searching files in: {}\\033[0m\".format(dir))\n",
        "    seg_file = [f for f in files if f.endswith(\"seg.nrrd\")]\n",
        "    vol_file = [f for f in files if \"_crop\" in f]\n",
        "    if not vol_file:\n",
        "        vol_file = [f for f in files if (\"mask\" not in f) and (f.endswith(\".nrrd\"))]\n",
        "\n",
        "    # Warning message\n",
        "    if not seg_file and vol_file:\n",
        "        print(\"\\n \\033[31m Missing segmentation or volume file!\\033[0m\")\n",
        "        print(\"Check files at: \", dir)\n",
        "        dirs_to_check.append(dir)\n",
        "        pass\n",
        "\n",
        "    # Success message\n",
        "    else:\n",
        "        print(\"\\033[92m Found segmentation and volume files!\\033[0m\")\n",
        "        print(\"seg_file: \", seg_file)\n",
        "        print(\"vol_file: \", vol_file)\n",
        "\n",
        "        # Hacky workaround for list comprehension results\n",
        "        seg_file = seg_file[0]\n",
        "        vol_file = vol_file[0]\n",
        "\n",
        "        # Segs\n",
        "        img = sitk.ReadImage(dir + '/' + seg_file)\n",
        "        outpath = labels_fpath + '/' + seg_file[:-9] + '_seg.nii.gz'\n",
        "        print(\"seg_file saved to: \", outpath)\n",
        "        sitk.WriteImage(img, outpath)\n",
        "        in_segs.append(seg_file)\n",
        "        out_segs.append(outpath)\n",
        "\n",
        "        # Vols\n",
        "        img = sitk.ReadImage(dir + '/' + vol_file)\n",
        "        outpath = ngz_fpath + '/' + vol_file[:-5] + '.nii.gz'\n",
        "        print(\"vol_file saved to: \", outpath)\n",
        "        sitk.WriteImage(img, outpath)\n",
        "        in_vols.append(vol_file)\n",
        "        out_vols.append(outpath)\n",
        "\n",
        "print(\"{} .nrrd files and {} seg.nrrd files from {} converted to .nii.gz at \\n volumes: {} \\n labels: {}\".format(len(in_vols), len(in_segs), wd, ngz_fpath, labels_fpath))\n",
        "print(\"{} folders were missing seg or vol files. Check on folders: {}\".format(len(dirs_to_check), dirs_to_check))\n",
        "\n",
        "# Save dirs_to_check to txt file in your wd for record of missing files\n",
        "with open(\"dirs_to_check.txt\", \"w\") as output:\n",
        "    output.write(str(dirs_to_check))\n",
        "print(\"Saved dirs_to_check list to: \", (wd + '/dirs_to_check.txt'))"
      ],
      "metadata": {
        "id": "hv6RpB6SKEd3"
      },
      "execution_count": null,
      "outputs": []
    }
  ]
}